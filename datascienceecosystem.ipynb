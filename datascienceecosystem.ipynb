{
 "cells": [
  {
   "cell_type": "markdown",
   "id": "5a0cde7e-de3a-4ea3-ba92-26eabf8840ff",
   "metadata": {},
   "source": [
    "# Data Science Tools and Ecosystem"
   ]
  },
  {
   "cell_type": "markdown",
   "id": "f4778b7b-f775-4fe3-bfc4-79fd7b313584",
   "metadata": {},
   "source": [
    "In this notebook, Data science tools and ecosystem are summarized\n"
   ]
  },
  {
   "cell_type": "markdown",
   "id": "ec342987-7593-42e8-a7ed-63ad4a7e4182",
   "metadata": {},
   "source": [
    "**Objectives**\n",
    "+ popular languages for Data Scientist\n",
    "+ Common libraries for Data Scientist\n",
    "+ Popular tools for Data Scientist\n",
    "+ Introduction to Python Arithmetic\n"
   ]
  },
  {
   "cell_type": "markdown",
   "id": "18dca323-386a-4d5c-b711-bd8cdc3677ca",
   "metadata": {},
   "source": [
    "Some of the popular languages that Data Scientists use are:\n",
    "1. Python\n",
    "2. R\n",
    "3. SQL\n",
    "4. Scala\n",
    "5. Java"
   ]
  },
  {
   "cell_type": "markdown",
   "id": "10dc0440-a97c-44c1-9a17-e693a5313bd5",
   "metadata": {
    "tags": []
   },
   "source": [
    "Some of the commonly used libraries used by data scientist include:\n",
    " 1. pandas\n",
    " 2. Numpy\n",
    " 3. Matplotlib\n",
    " 4. seaborn\n",
    " 5. sci-kit learn\n",
    "    "
   ]
  },
  {
   "cell_type": "markdown",
   "id": "70d813ae-1079-4183-a3f8-2913e24b0d97",
   "metadata": {},
   "source": [
    "| Data Science tools |\n",
    "|----|\n",
    "| anaconda |\n",
    "| Jupyter Notebooks |\n",
    "| r-studio |\n",
    "| spyder |\n",
    "| zepplin |"
   ]
  },
  {
   "cell_type": "markdown",
   "id": "eabc7402-d01b-49bd-acf3-692c64992324",
   "metadata": {},
   "source": [
    "### Below are a few examples of evaluating arithmetic expressions in Python\n"
   ]
  },
  {
   "cell_type": "code",
   "execution_count": 4,
   "id": "88ec1107-de34-4a52-98f0-357d9da4124f",
   "metadata": {
    "tags": []
   },
   "outputs": [
    {
     "data": {
      "text/plain": [
       "17"
      ]
     },
     "execution_count": 4,
     "metadata": {},
     "output_type": "execute_result"
    }
   ],
   "source": [
    "#This a simple arithmetic expression to mutiply then add integers\n",
    "(3*4)+5"
   ]
  },
  {
   "cell_type": "code",
   "execution_count": 5,
   "id": "c910b7df-061c-413f-addf-f0787a9318e5",
   "metadata": {
    "tags": []
   },
   "outputs": [
    {
     "data": {
      "text/plain": [
       "3.3333333333333335"
      ]
     },
     "execution_count": 5,
     "metadata": {},
     "output_type": "execute_result"
    }
   ],
   "source": [
    "#This will convert 200 minutes to hours by diving by 60\n",
    "200/60"
   ]
  },
  {
   "cell_type": "markdown",
   "id": "2d26e4c9-e190-4c4a-9762-c8d2a255a7db",
   "metadata": {},
   "source": [
    "## Author\n",
    "Nicole Sage"
   ]
  },
  {
   "cell_type": "code",
   "execution_count": null,
   "id": "5de36945-0062-4fd1-9c24-df684d08101d",
   "metadata": {},
   "outputs": [],
   "source": []
  }
 ],
 "metadata": {
  "kernelspec": {
   "display_name": "Python",
   "language": "python",
   "name": "conda-env-python-py"
  },
  "language_info": {
   "codemirror_mode": {
    "name": "ipython",
    "version": 3
   },
   "file_extension": ".py",
   "mimetype": "text/x-python",
   "name": "python",
   "nbconvert_exporter": "python",
   "pygments_lexer": "ipython3",
   "version": "3.7.12"
  }
 },
 "nbformat": 4,
 "nbformat_minor": 5
}
